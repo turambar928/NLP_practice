{
 "cells": [
  {
   "cell_type": "code",
   "execution_count": null,
   "id": "96d98f04-4d76-49ba-9e38-4bdd4acb0e38",
   "metadata": {},
   "outputs": [],
   "source": [
    "import pandas as pd\n",
    "import numpy as np"
   ]
  },
  {
   "cell_type": "code",
   "execution_count": null,
   "id": "9685bdd4-4204-498d-a950-cc3dffbd5d34",
   "metadata": {},
   "outputs": [],
   "source": [
    "# ========== 时间特征 ==========\n",
    "def add_date_features(df, date_col=\"date\"):\n",
    "    df[date_col] = pd.to_datetime(df[date_col])\n",
    "    df[\"year\"] = df[date_col].dt.year\n",
    "    df[\"month\"] = df[date_col].dt.month\n",
    "    df[\"day\"] = df[date_col].dt.day\n",
    "    df[\"dayofweek\"] = df[date_col].dt.dayofweek\n",
    "    df[\"weekofyear\"] = df[date_col].dt.isocalendar().week.astype(int)\n",
    "    df[\"is_weekend\"] = df[\"dayofweek\"].isin([5,6]).astype(int)\n",
    "    return df\n",
    "\n",
    "\n",
    "    "
   ]
  },
  {
   "cell_type": "code",
   "execution_count": null,
   "id": "359e3b4c-296c-420f-b2eb-d87e354f81a8",
   "metadata": {},
   "outputs": [],
   "source": [
    "# ========== 滑动窗口特征 ==========\n",
    "\n",
    "def add_lag_features(df, group_cols, target_col, lags=[1,7,14]):\n",
    "    df = df.sort_values(group_cols + [\"date\"])\n",
    "    for lag in lags:\n",
    "        df[f\"{target_col}_lag{lag}\"] = df.groupby(group_cols)[target_col].shift(lag)\n",
    "    return df\n",
    "\n",
    "def add_rolling_features(df, group_cols, target_col, windows=[7,14,28]):\n",
    "    df = df.sort_values(group_cols + [\"date\"])\n",
    "    for win in windows:\n",
    "        df[f\"{target_col}_rollmean{win}\"] = (\n",
    "            df.groupby(group_cols)[target_col].shift(1).rolling(win).mean()\n",
    "        )\n",
    "        df[f\"{target_col}_rollstd{win}\"] = (\n",
    "            df.groupby(group_cols)[target_col].shift(1).rolling(win).std()\n",
    "        )\n",
    "    return df"
   ]
  },
  {
   "cell_type": "code",
   "execution_count": null,
   "id": "27c4d3e8-0ed1-48c1-b834-dc6c7be6b124",
   "metadata": {},
   "outputs": [],
   "source": [
    "# ========== 类别特征编码 ==========\n",
    "from sklearn.preprocessing import LabelEncoder\n",
    "def label_encode(train, test, cols):\n",
    "    for col in cols:\n",
    "        le = LabelEncoder()\n",
    "        le.fit(pd.concat([train[col], test[col]]))\n",
    "        train[col] = le.transform(train[col])\n",
    "        test[col] = le.transform(test[col])\n",
    "    return train, test"
   ]
  },
  {
   "cell_type": "code",
   "execution_count": null,
   "id": "bb3d6069-d790-4bfd-bb2e-72aae0a77c01",
   "metadata": {},
   "outputs": [],
   "source": [
    "# ========== 外部数据 join 示例 ==========\n",
    "def merge_external(train, test, oil, holidays, stores):\n",
    "    # 填补油价缺失\n",
    "    oil[\"dcoilwtico\"] = oil[\"dcoilwtico\"].fillna(method=\"ffill\")\n",
    "    train = train.merge(oil, on=\"date\", how=\"left\")\n",
    "    test = test.merge(oil, on=\"date\", how=\"left\")\n",
    "\n",
    "    # 假期\n",
    "    holidays[\"is_holiday\"] = holidays[\"type\"].isin(\n",
    "        [\"Holiday\", \"Additional\", \"Bridge\"]).astype(int)\n",
    "    holidays = holidays.groupby(\"date\")[\"is_holiday\"].max().reset_index()\n",
    "    train = train.merge(holidays, on=\"date\", how=\"left\").fillna({\"is_holiday\": 0})\n",
    "    test = test.merge(holidays, on=\"date\", how=\"left\").fillna({\"is_holiday\": 0})\n",
    "\n",
    "    # 门店\n",
    "    train = train.merge(stores, on=\"store_nbr\", how=\"left\")\n",
    "    test = test.merge(stores, on=\"store_nbr\", how=\"left\")\n",
    "\n",
    "    return train, test"
   ]
  }
 ],
 "metadata": {
  "kernelspec": {
   "display_name": "Python 3 (ipykernel)",
   "language": "python",
   "name": "python3"
  },
  "language_info": {
   "codemirror_mode": {
    "name": "ipython",
    "version": 3
   },
   "file_extension": ".py",
   "mimetype": "text/x-python",
   "name": "python",
   "nbconvert_exporter": "python",
   "pygments_lexer": "ipython3",
   "version": "3.13.6"
  }
 },
 "nbformat": 4,
 "nbformat_minor": 5
}
